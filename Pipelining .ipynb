{
 "cells": [
  {
   "cell_type": "code",
   "execution_count": 2,
   "id": "1372d7ef",
   "metadata": {},
   "outputs": [],
   "source": [
    "#!pip install demucs openai-whisper torchaudio"
   ]
  },
  {
   "cell_type": "code",
   "execution_count": 5,
   "id": "ea5f10c0",
   "metadata": {},
   "outputs": [],
   "source": [
    "#!pip install moviepy"
   ]
  },
  {
   "cell_type": "code",
   "execution_count": 2,
   "id": "d5a1382c",
   "metadata": {},
   "outputs": [],
   "source": [
    "#!pip install FuzzyTM\n",
    "#!pip install blosc2\n",
    "#!pip install cython\n",
    "#!pip install sentencepiece\n"
   ]
  },
  {
   "cell_type": "code",
   "execution_count": 9,
   "id": "f42ed04d",
   "metadata": {},
   "outputs": [],
   "source": [
    "#!pip install ffmpeg-python"
   ]
  },
  {
   "cell_type": "code",
   "execution_count": 10,
   "id": "ba611100-0c95-4ec7-b1da-74c32fe56465",
   "metadata": {},
   "outputs": [],
   "source": [
    "#!pip install moviepy"
   ]
  },
  {
   "cell_type": "code",
   "execution_count": 5,
   "id": "0012e04d-b368-489c-8eaf-730b008f02a5",
   "metadata": {},
   "outputs": [
    {
     "name": "stdout",
     "output_type": "stream",
     "text": [
      "📁 Folder structure ready. Place your .mp3 files in the 'input/' folder.\n"
     ]
    }
   ],
   "source": [
    "import os\n",
    "\n",
    "folders = [\"input\", \"separated\", \"vocals\", \"subtitles\"]\n",
    "for folder in folders:\n",
    "    os.makedirs(folder, exist_ok=True)\n",
    "\n",
    "print(\"📁 Folder structure ready. Place your .mp3 files in the 'input/' folder.\")"
   ]
  },
  {
   "cell_type": "code",
   "execution_count": 1,
   "id": "8007dccf-bb4c-44d3-a171-62ac9857e353",
   "metadata": {},
   "outputs": [],
   "source": [
    "import subprocess\n",
    "from pathlib import Path\n",
    "\n",
    "def separate_vocals(song_path):\n",
    "    print(f\"🎧 Separating vocals from: {song_path}\")\n",
    "    \n",
    "    song_path_fixed = Path(song_path).as_posix()  # ensures forward slashes\n",
    "\n",
    "    command = [\n",
    "        \"python\", \"-m\", \"demucs\",\n",
    "        \"--two-stems\", \"vocals\",\n",
    "        \"-o\", \"separated\",\n",
    "        song_path_fixed\n",
    "    ]\n",
    "\n",
    "    try:\n",
    "        result = subprocess.run(command, check=True, capture_output=True, text=True)\n",
    "        print(result.stdout)\n",
    "    except subprocess.CalledProcessError as e:\n",
    "        print(\"❌ Demucs failed with error:\")\n",
    "        print(e.stderr)  # ← This shows the real problem!\n",
    "        raise e\n",
    "\n",
    "    song_name = Path(song_path).stem\n",
    "    vocal_path = Path(\"separated\") / \"htdemucs\" / song_name / \"vocals.wav\"\n",
    "    return vocal_path\n"
   ]
  },
  {
   "cell_type": "code",
   "execution_count": 2,
   "id": "94f7d261-9a41-4284-a9b8-19533bd68b46",
   "metadata": {},
   "outputs": [],
   "source": [
    "import whisper\n",
    "\n",
    "def format_timestamp(seconds):\n",
    "    h = int(seconds // 3600)\n",
    "    m = int((seconds % 3600) // 60)\n",
    "    s = int(seconds % 60)\n",
    "    ms = int((seconds - int(seconds)) * 1000)\n",
    "    return f\"{h:02}:{m:02}:{s:02},{ms:03}\"\n",
    "\n",
    "def transcribe_to_srt(vocal_path):\n",
    "    print(f\"🧠 Transcribing (auto-language): {vocal_path}\")\n",
    "    model = whisper.load_model(\"large-v2\")  # Better for Hindi; can use \"large\" for high accuracy\n",
    "\n",
    "    # Auto language detection enabled\n",
    "    result = model.transcribe(str(vocal_path), language=\"hi\")\n",
    "\n",
    "    srt_path = Path(\"subtitles\") / (Path(vocal_path).stem + \".srt\")\n",
    "    with open(srt_path, \"w\", encoding=\"utf-8\") as f:\n",
    "        for i, segment in enumerate(result[\"segments\"]):\n",
    "            start = format_timestamp(segment[\"start\"])\n",
    "            end = format_timestamp(segment[\"end\"])\n",
    "            text = segment[\"text\"].strip()\n",
    "            f.write(f\"{i+1}\\n{start} --> {end}\\n{text}\\n\\n\")\n",
    "    return srt_path"
   ]
  },
  {
   "cell_type": "code",
   "execution_count": 3,
   "id": "42fb9996-15de-4d58-b9f1-d48af56a38e1",
   "metadata": {},
   "outputs": [
    {
     "name": "stdout",
     "output_type": "stream",
     "text": [
      "🎧 Separating vocals from: input\\Aaj Sajeya Goldie Sohel 320 Kbps.mp3\n",
      "\u001b[1mImportant: the default model was recently changed to `htdemucs`\u001b[0m the latest Hybrid Transformer Demucs model. In some cases, this model can actually perform worse than previous models. To get back the old default model use `-n mdx_extra_q`.\n",
      "Selected model is a bag of 1 models. You will see that many progress bars per track.\n",
      "Separated tracks will be stored in C:\\Users\\Gunamay Gupta\\separated\\htdemucs\n",
      "Separating track input\\Aaj Sajeya Goldie Sohel 320 Kbps.mp3\n",
      "\n",
      "🧠 Transcribing (auto-language): vocals\\Aaj Sajeya Goldie Sohel 320 Kbps.wav\n"
     ]
    },
    {
     "name": "stderr",
     "output_type": "stream",
     "text": [
      "C:\\ProgramData\\anaconda3\\Lib\\site-packages\\whisper\\transcribe.py:132: UserWarning: FP16 is not supported on CPU; using FP32 instead\n",
      "  warnings.warn(\"FP16 is not supported on CPU; using FP32 instead\")\n"
     ]
    },
    {
     "name": "stdout",
     "output_type": "stream",
     "text": [
      "✅ Done for Aaj Sajeya Goldie Sohel 320 Kbps.mp3: Subtitles saved to subtitles\\Aaj Sajeya Goldie Sohel 320 Kbps.srt\n",
      "🎧 Separating vocals from: input\\Aap Ki Nazron Ne Samjha-320kbps.mp3\n",
      "\u001b[1mImportant: the default model was recently changed to `htdemucs`\u001b[0m the latest Hybrid Transformer Demucs model. In some cases, this model can actually perform worse than previous models. To get back the old default model use `-n mdx_extra_q`.\n",
      "Selected model is a bag of 1 models. You will see that many progress bars per track.\n",
      "Separated tracks will be stored in C:\\Users\\Gunamay Gupta\\separated\\htdemucs\n",
      "Separating track input\\Aap Ki Nazron Ne Samjha-320kbps.mp3\n",
      "\n",
      "🧠 Transcribing (auto-language): vocals\\Aap Ki Nazron Ne Samjha-320kbps.wav\n",
      "✅ Done for Aap Ki Nazron Ne Samjha-320kbps.mp3: Subtitles saved to subtitles\\Aap Ki Nazron Ne Samjha-320kbps.srt\n",
      "🎧 Separating vocals from: input\\Dilko Tumse Pyar Hua-320kbps.mp3\n",
      "\u001b[1mImportant: the default model was recently changed to `htdemucs`\u001b[0m the latest Hybrid Transformer Demucs model. In some cases, this model can actually perform worse than previous models. To get back the old default model use `-n mdx_extra_q`.\n",
      "Selected model is a bag of 1 models. You will see that many progress bars per track.\n",
      "Separated tracks will be stored in C:\\Users\\Gunamay Gupta\\separated\\htdemucs\n",
      "Separating track input\\Dilko Tumse Pyar Hua-320kbps.mp3\n",
      "\n",
      "🧠 Transcribing (auto-language): vocals\\Dilko Tumse Pyar Hua-320kbps.wav\n",
      "✅ Done for Dilko Tumse Pyar Hua-320kbps.mp3: Subtitles saved to subtitles\\Dilko Tumse Pyar Hua-320kbps.srt\n",
      "🎧 Separating vocals from: input\\Ek Pal Ka Jeena-320kbps.mp3\n",
      "\u001b[1mImportant: the default model was recently changed to `htdemucs`\u001b[0m the latest Hybrid Transformer Demucs model. In some cases, this model can actually perform worse than previous models. To get back the old default model use `-n mdx_extra_q`.\n",
      "Selected model is a bag of 1 models. You will see that many progress bars per track.\n",
      "Separated tracks will be stored in C:\\Users\\Gunamay Gupta\\separated\\htdemucs\n",
      "Separating track input\\Ek Pal Ka Jeena-320kbps.mp3\n",
      "\n",
      "🧠 Transcribing (auto-language): vocals\\Ek Pal Ka Jeena-320kbps.wav\n",
      "✅ Done for Ek Pal Ka Jeena-320kbps.mp3: Subtitles saved to subtitles\\Ek Pal Ka Jeena-320kbps.srt\n",
      "🎧 Separating vocals from: input\\Lagi Aaj Sawan Ki-320kbps.mp3\n",
      "\u001b[1mImportant: the default model was recently changed to `htdemucs`\u001b[0m the latest Hybrid Transformer Demucs model. In some cases, this model can actually perform worse than previous models. To get back the old default model use `-n mdx_extra_q`.\n",
      "Selected model is a bag of 1 models. You will see that many progress bars per track.\n",
      "Separated tracks will be stored in C:\\Users\\Gunamay Gupta\\separated\\htdemucs\n",
      "Separating track input\\Lagi Aaj Sawan Ki-320kbps.mp3\n",
      "\n",
      "🧠 Transcribing (auto-language): vocals\\Lagi Aaj Sawan Ki-320kbps.wav\n",
      "✅ Done for Lagi Aaj Sawan Ki-320kbps.mp3: Subtitles saved to subtitles\\Lagi Aaj Sawan Ki-320kbps.srt\n",
      "🎧 Separating vocals from: input\\Tu Hi Meri Shab Hai-320kbps.mp3\n",
      "\u001b[1mImportant: the default model was recently changed to `htdemucs`\u001b[0m the latest Hybrid Transformer Demucs model. In some cases, this model can actually perform worse than previous models. To get back the old default model use `-n mdx_extra_q`.\n",
      "Selected model is a bag of 1 models. You will see that many progress bars per track.\n",
      "Separated tracks will be stored in C:\\Users\\Gunamay Gupta\\separated\\htdemucs\n",
      "Separating track input\\Tu Hi Meri Shab Hai-320kbps.mp3\n",
      "\n",
      "🧠 Transcribing (auto-language): vocals\\Tu Hi Meri Shab Hai-320kbps.wav\n",
      "✅ Done for Tu Hi Meri Shab Hai-320kbps.mp3: Subtitles saved to subtitles\\Tu Hi Meri Shab Hai-320kbps.srt\n"
     ]
    }
   ],
   "source": [
    "import shutil\n",
    "import os\n",
    "\n",
    "def run_pipeline():\n",
    "    for file in os.listdir(\"input\"):\n",
    "        if file.endswith(\".mp3\"):\n",
    "            song_path = os.path.join(\"input\", file)\n",
    "            try:\n",
    "                vocal_path = separate_vocals(song_path)\n",
    "\n",
    "                # Move vocal to central storage\n",
    "                song_name = Path(song_path).stem\n",
    "                vocal_target = Path(\"vocals\") / f\"{song_name}.wav\"\n",
    "\n",
    "                # Rename and move vocals.wav\n",
    "                shutil.move(str(vocal_path), str(vocal_target))\n",
    "\n",
    "                # Transcribe and save SRT\n",
    "                srt_file = transcribe_to_srt(vocal_target)\n",
    "                print(f\"✅ Done for {file}: Subtitles saved to {srt_file}\")\n",
    "            except Exception as e:\n",
    "                print(f\"❌ Error processing {file}: {e}\")\n",
    "\n",
    "run_pipeline()"
   ]
  },
  {
   "cell_type": "code",
   "execution_count": 1,
   "id": "60221330-e7fe-47df-964e-5ee1f7bc2ad0",
   "metadata": {},
   "outputs": [],
   "source": [
    "#!pip install demucs"
   ]
  },
  {
   "cell_type": "code",
   "execution_count": 10,
   "id": "932b5a72-0561-4508-8e1f-62b7066cba32",
   "metadata": {},
   "outputs": [],
   "source": [
    "#!pip install torchaudio"
   ]
  },
  {
   "cell_type": "code",
   "execution_count": 12,
   "id": "913f7163-67c4-4387-94b9-c2ee1cbb30bc",
   "metadata": {},
   "outputs": [],
   "source": [
    "#!pip install ffmpeg-python"
   ]
  },
  {
   "cell_type": "code",
   "execution_count": 3,
   "id": "80442719-27b8-4f70-9c11-7340d66c78d8",
   "metadata": {},
   "outputs": [],
   "source": [
    "#!pip install demucs openai-whisper ffmpeg-python torchaudio"
   ]
  },
  {
   "cell_type": "code",
   "execution_count": 6,
   "id": "837945a9-dd65-4720-8240-89a7c317b813",
   "metadata": {},
   "outputs": [],
   "source": [
    "#!pip install ipywidgets"
   ]
  },
  {
   "cell_type": "code",
   "execution_count": 1,
   "id": "f8d3153e-fd76-4d00-8f83-d23b03bf26e7",
   "metadata": {},
   "outputs": [],
   "source": [
    "#!pip install librosa"
   ]
  },
  {
   "cell_type": "code",
   "execution_count": null,
   "id": "a5bb3ba8-842a-4b38-9d32-455b2a77224c",
   "metadata": {},
   "outputs": [],
   "source": []
  }
 ],
 "metadata": {
  "kernelspec": {
   "display_name": "Python [conda env:base] *",
   "language": "python",
   "name": "conda-base-py"
  },
  "language_info": {
   "codemirror_mode": {
    "name": "ipython",
    "version": 3
   },
   "file_extension": ".py",
   "mimetype": "text/x-python",
   "name": "python",
   "nbconvert_exporter": "python",
   "pygments_lexer": "ipython3",
   "version": "3.13.5"
  }
 },
 "nbformat": 4,
 "nbformat_minor": 5
}
